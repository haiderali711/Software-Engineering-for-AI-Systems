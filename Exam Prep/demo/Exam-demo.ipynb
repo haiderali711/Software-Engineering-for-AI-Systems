{
 "cells": [
  {
   "cell_type": "markdown",
   "metadata": {
    "colab_type": "text",
    "id": "eyZX8KyTTVFp"
   },
   "source": [
    "# DIT821 Software Engineering for AI systems\n",
    "\n",
    "#### Exam  2020-08-17\n",
    "\n",
    "Linear and Polynomial regression - example"
   ]
  },
  {
   "cell_type": "markdown",
   "metadata": {
    "colab_type": "text",
    "id": "CNin5EQ-TVFq"
   },
   "source": [
    "Enter here your first and last name and your e-mail adress as registered in Canvas.\n",
    "\n",
    "* Name, e-mail:"
   ]
  },
  {
   "cell_type": "markdown",
   "metadata": {
    "colab_type": "text",
    "id": "7UsINNupTVFq"
   },
   "source": [
    "In this assignement, you will implement regularized linear  and polynomial regression and use it to study models with different bias-variance properties. \n",
    "\n",
    "Please make sure that you have utils.py file and dataset. \n",
    "\n",
    "Write the code  and comments according to the requirement, and run it.\n",
    "\n",
    "Donwload the file as a notenook file (.ipynb) and submit it to canvas.\n",
    "\n",
    "#### Run next cell to import neccesary functions. "
   ]
  },
  {
   "cell_type": "code",
   "execution_count": 3,
   "metadata": {
    "colab": {},
    "colab_type": "code",
    "id": "peaILrd3TVFr"
   },
   "outputs": [],
   "source": [
    "# used for manipulating directory paths\n",
    "import os\n",
    "\n",
    "# Scientific and vector computation for python\n",
    "import numpy as np\n",
    "\n",
    "# Plotting library\n",
    "from matplotlib import pyplot\n",
    "\n",
    "# Optimization module in scipy\n",
    "from scipy import optimize\n",
    "\n",
    "# will be used to load MATLAB mat datafile format\n",
    "from scipy.io import loadmat\n",
    "\n",
    "import pandas as pd\n",
    "\n",
    "# library written for this exercise providing additional functions for assignment submission, and others\n",
    "# import utils\n"
   ]
  },
  {
   "cell_type": "markdown",
   "metadata": {
    "colab_type": "text",
    "id": "HrDHHci3TVFu"
   },
   "source": [
    "Read data, training set (X,y), validation set (Xval, yval), and test set (Xtest, ytest),\n",
    "\n",
    "- A **training** set that your model will learn on: `X`, `y`\n",
    "- A **cross validation** set for determining the regularization parameter: `Xval`, `yval`\n",
    "- A **test** set for evaluating performance. These are “unseen” examples which your model did not see during training: `Xtest`, `ytest`\n",
    "\n",
    "#### Run the next cell to read data and setup values"
   ]
  },
  {
   "cell_type": "code",
   "execution_count": 9,
   "metadata": {
    "colab": {},
    "colab_type": "code",
    "id": "7_fH2mdsTVFv",
    "outputId": "dbd233c7-ed47-4a55-9b77-f7799a887b00"
   },
   "outputs": [],
   "source": [
    "# Load from ex3data1.mat, where all features will be stored in a dictionary\n",
    "data = loadmat(os.path.join('Data', 'ex3data1.mat'))\n",
    "\n",
    "# Extract train, test, validation data from dictionary\n",
    "# and also convert y's form 2-D matrix to a numpy vector\n",
    "X, y = data['X'], data['y'][:, 0]\n",
    "Xtest, ytest = data['Xtest'], data['ytest'][:, 0]\n",
    "Xval, yval = data['Xval'], data['yval'][:, 0]\n",
    "\n",
    "# m = Number of examples\n",
    "m = y.size\n",
    "\n"
   ]
  },
  {
   "cell_type": "markdown",
   "metadata": {},
   "source": [
    "####  In the next cell implement: \n",
    "\n",
    "1) Add \"1\" as the first column in the datasets\n",
    "2) print shape (dimensions) of data (X,y), (Xval, yval), (Xtest, ytest), and calculate percentage of each dataset of the total dataset"
   ]
  },
  {
   "cell_type": "code",
   "execution_count": 11,
   "metadata": {},
   "outputs": [
    {
     "name": "stdout",
     "output_type": "stream",
     "text": [
      "(12, 2) (21, 2) (21, 2)\n",
      "22.22222222222222 38.888888888888886 38.888888888888886\n"
     ]
    }
   ],
   "source": [
    "# ====================== YOUR CODE HERE ======================\n",
    "n,o = ytest.size , yval.size\n",
    "totalDataset = m+n+o\n",
    "X = np.concatenate([np.ones((m, 1)), X], axis=1)\n",
    "Xtest = np.concatenate([np.ones((n, 1)), Xtest], axis=1)\n",
    "Xval = np.concatenate([np.ones((o, 1)), Xval], axis=1)\n",
    "print(X.shape , Xval.shape, Xtest.shape)\n",
    "print((m*100/totalDataset),(n*100/totalDataset),(o*100/totalDataset))"
   ]
  },
  {
   "cell_type": "markdown",
   "metadata": {
    "colab_type": "text",
    "id": "pumeE81OTVFy"
   },
   "source": [
    "#### In the next cell, you should  complete the code in the function `linearRegCostFunction`. \n",
    "\n",
    "Your task is to calculate the regularized linear regression cost function, and  gradient\n"
   ]
  },
  {
   "cell_type": "code",
   "execution_count": null,
   "metadata": {},
   "outputs": [],
   "source": []
  },
  {
   "cell_type": "code",
   "execution_count": 12,
   "metadata": {
    "colab": {},
    "colab_type": "code",
    "id": "oOrTLyTgTVFz"
   },
   "outputs": [],
   "source": [
    "def linearRegCostFunction(X, y, w, lambda_=0.0):\n",
    "    \"\"\"\n",
    "    \n",
    "    Parameters\n",
    "    ----------\n",
    "    X : array_like - The dataset. Matrix with shape (m x n + 1) where m is the total number of examples, and n is the number of features \n",
    "        before adding the bias term.\n",
    "    y : array_like - The functions values at each datapoint. A vector of shape (m, ).\n",
    "    w : array_like - The parameters for linear regression. A vector of shape (n+1,).\n",
    "    lambda_ : float, optional - The regularization parameter.\n",
    "    \n",
    "    Returns\n",
    "    -------\n",
    "    J : float - The computed cost function. \n",
    "    grad : array_like - The value of the cost function gradient w.r.t weight. A vector of shape (n+1, ).\n",
    "    \n",
    "\n",
    "    ----------------------------------------------------------\n",
    "    \"\"\"\n",
    "    # Initialize some useful values\n",
    "   \n",
    "    m = y.size # number of training examples\n",
    "    J = 0\n",
    "    grad = np.zeros(w.shape)\n",
    "    \n",
    "    # ====================== YOUR CODE HERE ======================\n",
    "    print(w)\n",
    "    h = np.dot(X,w)\n",
    "    \n",
    "    squared = np.square(h-y)\n",
    "    summ = np.sum(squared)\n",
    "    \n",
    "    \n",
    "      # =============================================================\n",
    "    return J, grad\n"
   ]
  },
  {
   "cell_type": "code",
   "execution_count": null,
   "metadata": {},
   "outputs": [],
   "source": []
  },
  {
   "cell_type": "code",
   "execution_count": null,
   "metadata": {},
   "outputs": [],
   "source": []
  },
  {
   "cell_type": "markdown",
   "metadata": {},
   "source": [
    "### Changing number of training example\n",
    "\n",
    "1) calculate  w for the training set (already in the code), and the cost function for this training set, for the cross-validition set and test-set using linearRegCostFunction function. Use lambda_ parametar 0.  Print w and calculated cost functions.\n",
    "\n",
    "2) Suppose you want to increase the number of examples. You can do it by adding test validation dataset to trainging set, and using test "
   ]
  },
  {
   "cell_type": "code",
   "execution_count": 13,
   "metadata": {},
   "outputs": [
    {
     "ename": "NameError",
     "evalue": "name 'utils' is not defined",
     "output_type": "error",
     "traceback": [
      "\u001b[0;31m---------------------------------------------------------------------------\u001b[0m",
      "\u001b[0;31mNameError\u001b[0m                                 Traceback (most recent call last)",
      "\u001b[0;32m<ipython-input-13-83dae1fe31b8>\u001b[0m in \u001b[0;36m<module>\u001b[0;34m\u001b[0m\n\u001b[0;32m----> 1\u001b[0;31m \u001b[0mw\u001b[0m \u001b[0;34m=\u001b[0m \u001b[0mutils\u001b[0m\u001b[0;34m.\u001b[0m\u001b[0mtrainLinearReg\u001b[0m\u001b[0;34m(\u001b[0m\u001b[0mlinearRegCostFunction\u001b[0m\u001b[0;34m,\u001b[0m \u001b[0mX\u001b[0m\u001b[0;34m,\u001b[0m \u001b[0my\u001b[0m\u001b[0;34m,\u001b[0m \u001b[0mlambda_\u001b[0m\u001b[0;34m=\u001b[0m\u001b[0;36m0\u001b[0m\u001b[0;34m)\u001b[0m\u001b[0;34m\u001b[0m\u001b[0;34m\u001b[0m\u001b[0m\n\u001b[0m\u001b[1;32m      2\u001b[0m \u001b[0;34m\u001b[0m\u001b[0m\n\u001b[1;32m      3\u001b[0m \u001b[0;31m# calculate cost functions for three datasets\u001b[0m\u001b[0;34m\u001b[0m\u001b[0;34m\u001b[0m\u001b[0;34m\u001b[0m\u001b[0m\n\u001b[1;32m      4\u001b[0m \u001b[0;31m# ====================== YOUR CODE HERE ======================\u001b[0m\u001b[0;34m\u001b[0m\u001b[0;34m\u001b[0m\u001b[0;34m\u001b[0m\u001b[0m\n\u001b[1;32m      5\u001b[0m \u001b[0;34m\u001b[0m\u001b[0m\n",
      "\u001b[0;31mNameError\u001b[0m: name 'utils' is not defined"
     ]
    }
   ],
   "source": [
    "w = utils.trainLinearReg(linearRegCostFunction, X, y, lambda_=0)\n",
    "\n",
    "# calculate cost functions for three datasets\n",
    "# ====================== YOUR CODE HERE ======================\n",
    "\n",
    "#=============================================================\n",
    "#now we increase training set - add validaion dataset to the terining set\n",
    "# calculate  new and the cost functions for new dataset and for test dataset\n",
    "\n",
    "# ====================== YOUR CODE HERE ======================\n",
    "\n",
    "\n"
   ]
  },
  {
   "cell_type": "markdown",
   "metadata": {},
   "source": [
    "#### Comment the reesults here - why the cost functions of new sets are different?"
   ]
  },
  {
   "cell_type": "markdown",
   "metadata": {},
   "source": [
    "The cost function for the training set is larger as there are more examples, and a linear approximation in not  expected to be better  - new errors for each point are added.\n",
    "The cost function for test set is better which is expected as the new curve better fits for more examples."
   ]
  },
  {
   "cell_type": "markdown",
   "metadata": {},
   "source": [
    "Now, in the new data sat we will add a new feature, that is a square of the first feature.\n",
    "#### implement the following\n",
    "\n",
    "1) add a new feature X_new[:,2] = square X_new[:,1].What is the new shape of the dataset?\n",
    "\n",
    "2) Calculate  and print the cost functions for the traning set and for the test set.\n"
   ]
  },
  {
   "cell_type": "code",
   "execution_count": 7,
   "metadata": {},
   "outputs": [],
   "source": [
    "# add a new column in the training set with the square values from column 1. Note \n",
    "\n",
    "#uncomment the instruction below. Note: X_new is a the training dataset that you created before\n",
    "#X_sq = np.square(X_new[:,1])\n",
    "#X_poly = np.c_[X_new, X_sq]\n",
    "\n",
    "\n",
    "# ====================== YOUR CODE HERE ======================\n",
    "                     \n",
    "        \n",
    "            "
   ]
  },
  {
   "cell_type": "code",
   "execution_count": null,
   "metadata": {},
   "outputs": [],
   "source": []
  },
  {
   "cell_type": "code",
   "execution_count": null,
   "metadata": {},
   "outputs": [],
   "source": []
  },
  {
   "cell_type": "markdown",
   "metadata": {},
   "source": [
    "#### Comment the reesults here - why the cost functions are diffetent than for a linear regression?"
   ]
  },
  {
   "cell_type": "markdown",
   "metadata": {},
   "source": []
  },
  {
   "cell_type": "markdown",
   "metadata": {
    "colab_type": "text",
    "id": "fudirgqKTVGQ"
   },
   "source": [
    "## Submit the solution\n",
    "\n",
    "When you completed the excercise, download (form File menu) this file as a jupyter Notebook file (.ipynb) and uplaod this file in the CANVAS \n",
    "\n",
    "By writing down my name I declare that we have done the assignement myself:\n",
    "\n",
    "* First Name  Last Name:\n"
   ]
  }
 ],
 "metadata": {
  "colab": {
   "collapsed_sections": [],
   "name": "Lab3.ipynb",
   "provenance": []
  },
  "kernelspec": {
   "display_name": "Python 3",
   "language": "python",
   "name": "python3"
  },
  "language_info": {
   "codemirror_mode": {
    "name": "ipython",
    "version": 3
   },
   "file_extension": ".py",
   "mimetype": "text/x-python",
   "name": "python",
   "nbconvert_exporter": "python",
   "pygments_lexer": "ipython3",
   "version": "3.7.6"
  }
 },
 "nbformat": 4,
 "nbformat_minor": 4
}

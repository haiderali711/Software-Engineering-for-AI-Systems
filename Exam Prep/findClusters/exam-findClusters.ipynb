{
 "cells": [
  {
   "cell_type": "markdown",
   "metadata": {
    "colab_type": "text",
    "id": "EvSm4CfIMVcO"
   },
   "source": [
    "# DIT821 Software Engineering for AI systems - exam 2020-08-17\n",
    "\n",
    "\n",
    "### Assignement: find optimal number of cluster"
   ]
  },
  {
   "cell_type": "markdown",
   "metadata": {
    "colab_type": "text",
    "id": "coj2nJ5QMfnK"
   },
   "source": [
    "\n",
    "* Name, e-mail:"
   ]
  },
  {
   "cell_type": "code",
   "execution_count": null,
   "metadata": {},
   "outputs": [],
   "source": []
  },
  {
   "cell_type": "markdown",
   "metadata": {
    "colab_type": "text",
    "id": "TRAQH94XMTsx"
   },
   "source": [
    "#### Task description\n",
    "Your assignment is to find clusters of data. You will have a dataset with m examples characterized by n features, and you have to find the optimal number of clusters. \n",
    "\n",
    "The specific of the assignment is the following.\n",
    "The number of features n=3, and you can assume that the features represent the space coordinates, x,y, and z, where z denotes a height. Assume that your cost is related to moving in the space, and the cost is proportional to the distance from a centroid to the object. However, the cost for moving up and down (i.e. changing z-coordinate) costs 2 times than moving on the same height (i.e. for dx = x1-x2, dz=z1-z2, and dx = dz, the cost C(dz) = 2*C(dx).\n",
    "\n",
    "In this assignment you should\n",
    "1) run a code that creates a dataset (coordinates of the objects)\n",
    "2) provide the K-algorithm for n clusters assuming the cost conditions\n",
    "3) provide an algorithm in which you will test which costs you will have for different number of clusters (1-50) and based on the results you should select the most appropriate number of clusters\n",
    "\n",
    "#### execute next cell"
   ]
  },
  {
   "cell_type": "code",
   "execution_count": 1,
   "metadata": {
    "colab": {},
    "colab_type": "code",
    "id": "TvhpdIBBMTsy"
   },
   "outputs": [],
   "source": [
    "# used for manipulating directory paths\n",
    "import os\n",
    "\n",
    "# Scientific and vector computation for python\n",
    "import numpy as np\n",
    "\n",
    "# Optimization module in scipy\n",
    "from scipy import optimize\n",
    "\n",
    "# Plotting library\n",
    "from matplotlib import pyplot\n",
    "\n",
    "import random\n",
    "import utils"
   ]
  },
  {
   "cell_type": "markdown",
   "metadata": {},
   "source": [
    "#### generate dataset (semirandom generation) - execute the code in the next cell"
   ]
  },
  {
   "cell_type": "code",
   "execution_count": 2,
   "metadata": {},
   "outputs": [
    {
     "name": "stdout",
     "output_type": "stream",
     "text": [
      "[[ -9.69490782 -11.02257549 -24.2441127 ]\n",
      " [ -8.09619063   8.02470033 -17.70367649]\n",
      " [ -1.09985952 -29.86781586  19.01046623]\n",
      " ...\n",
      " [ 91.23559447 193.34535788  22.89179889]\n",
      " [ 89.96758718 214.6683464  -60.88099905]\n",
      " [ 84.751726   212.44872016  10.89077927]]\n"
     ]
    }
   ],
   "source": [
    "#this code creates the dataset with semi-random values for data. We have 1000 objects with 3 features (x,y,z)\n",
    "\n",
    "m = 500 # number of exampls\n",
    "n = 3 # number of features/dimensions\n",
    "\n",
    "# generate dataset X \n",
    "X = np.zeros((m, n))\n",
    "k1 = int(m/10)\n",
    "k2 = int(m/5)\n",
    "for i in range(10):\n",
    "    X[(k1*i):((i+1)*k1),0]  = [random.gauss(10*i, 10) for _ in range(k1)]\n",
    "for i in range(5):\n",
    "    X[(k2*i):((i+1)*k2),1]  = [random.gauss(50*i, 20) for _ in range(k2)]\n",
    "X[:,2] = [random.gauss(20, 30) for _ in range(m)]\n",
    "\n",
    "print(X)"
   ]
  },
  {
   "cell_type": "markdown",
   "metadata": {
    "colab_type": "text",
    "id": "M7fDt-4BMTs2"
   },
   "source": [
    "#### Finding closest centroids\n",
    "\n",
    "In the “cluster assignment” phase of the K-means algorithm, the algorithm assigns every training example $x^{(i)}$ to its closest centroid, given the current positions of centroids. Specifically, for every example $i$ we set\n",
    "\n",
    "$$c^{(i)} := j \\quad \\text{that minimizes} \\quad \\lvert\\rvert x^{(i)} - \\mu_j  \\lvert\\rvert^2, $$\n",
    "\n",
    "where $c^{(i)}$ is the index of the centroid that is closest to $x^{(i)}$, and $\\mu_j$ is the position (value) of the $j^{th}$ centroid. Note that $c^{(i)}$ corresponds to `idx[i]` in the starter code.\n",
    "\n",
    "I this assignement you will try to find the optimal number of clusters  for given objects that are defined by three features, that you can undersand as space coordinate : $x^{(i)}$ correponds to the space coordinates x,y,z.) \n",
    "\n",
    "The first task is to update the code in the function `findClosestCentroids`. This function takes the data matrix `X` and the locations of all centroids inside `centroids` and should output a one-dimensional array `idx` that holds the index (a value in $\\{1, ..., K\\}$, where $K$ is total number of centroids) of the closest centroid to every training example.\n",
    "\n",
    "#### Note however that you have take into account that the cost for the z distance is 2 times larger than the cost for the same distance for x and y. "
   ]
  },
  {
   "cell_type": "code",
   "execution_count": 3,
   "metadata": {
    "colab": {},
    "colab_type": "code",
    "id": "H3SmHtooMTs3"
   },
   "outputs": [],
   "source": [
    "def findClosestCentroids(X, centroids):\n",
    "    \"\"\"\n",
    "    Computes the centroid memberships for every example.\n",
    "    \n",
    "    Parameters\n",
    "    ----------\n",
    "    X : array_like - The dataset of size (m, n) where each row is a single example. That is, we have m examples each of n dimensions.\n",
    "        \n",
    "    centroids : array_like - The k-means centroids of size (K, n). K is the number of clusters, and n is the the data dimension.\n",
    "    \n",
    "    Returns\n",
    "    -------\n",
    "    idx : array_like - A vector of size (m, ) which holds the centroids assignment for each example (row) in the dataset X.\n",
    "    \n",
    "    \"\"\"\n",
    "   \n",
    "    # You need to return the following variables correctly.\n",
    "    idx = np.zeros(X.shape[0], dtype=int)\n",
    "\n",
    "    K = centroids.shape[0]\n",
    "    m = X.shape[0]  # number of elements\n",
    "    temp = np.zeros((centroids.shape[0],1))\n",
    "\n",
    "    for i in range (m):\n",
    "        for j in range (K):\n",
    "            dis_ij = X[i,:] - centroids[j,:] # distance for each feature for  ith case and j centroid\n",
    "            dist = np.sum(dis_ij**2) # distance/norm \n",
    "            temp[j] = dist # save dist for each centroid\n",
    "            idx[i] = np.argmin(temp)  # find element with a minium distance for all centroids. \n",
    "            \n",
    "    return idx\n",
    "\n",
    "\n",
    "\n",
    " "
   ]
  },
  {
   "cell_type": "markdown",
   "metadata": {
    "colab_type": "text",
    "id": "wJIaJ83pMTs_"
   },
   "source": [
    "<a id=\"section2\"></a>\n",
    "### 1.1.2 Computing centroid means\n",
    "\n",
    "Given assignments of every point to a centroid, the second phase of the algorithm recomputes, for each centroid, the mean of the points that were assigned to it. Specifically, for every centroid $k$ we set\n",
    "\n",
    "$$ \\mu_k := \\frac{1}{\\left| C_k\\right|} \\sum_{i \\in C_k} x^{(i)}$$\n",
    "\n",
    "where $C_k$ is the set of examples that are assigned to centroid $k$. Concretely, if two examples say $x^{(3)}$ and $x^{(5)}$ are assigned to centroid $k = 2$, then you should update $\\mu_2 = \\frac{1}{2} \\left( x^{(3)} + x^{(5)} \\right)$.\n",
    "\n",
    "#### Note however that the distace along z-coordinate, costs 2 times more \n"
   ]
  },
  {
   "cell_type": "code",
   "execution_count": 4,
   "metadata": {
    "colab": {},
    "colab_type": "code",
    "id": "GuqHobKyMTs_"
   },
   "outputs": [],
   "source": [
    "def computeCentroids(X, idx, K):\n",
    "    \"\"\"\n",
    "    Returns the new centroids by computing the means of the data points assigned to each centroid.\n",
    "    \n",
    "    Parameters\n",
    "    ----------\n",
    "    X : array_like - The datset where each row is a single data point. That is, it  is a matrix of size (m, n) where there are m datapoints each\n",
    "        having n dimensions. \n",
    "    \n",
    "    idx : array_like \n",
    "        A vector (size m) of centroid assignments (i.e. each entry in range [0 ... K-1]) for each example.\n",
    "    \n",
    "    K : int Number of clusters\n",
    "    \n",
    "    Returns\n",
    "    -------\n",
    "    centroids : array_like - A matrix of size (K, n) where each row is the mean of the data points assigned to it\n",
    "    with the assumption that for n=3 (i.e. z coordinate) you will have double cost for the distance\n",
    "    \n",
    "\n",
    "    \"\"\"\n",
    "    # Useful variables\n",
    "    m, n = X.shape\n",
    "    # You need to return the following variables correctly.\n",
    "    centroids = np.zeros((K, n))\n",
    "    \n",
    "    count = np.zeros((K,1))\n",
    "    \n",
    "    for i in range(m):\n",
    "        n_centriod = idx[i]\n",
    "        centroids[n_centriod,:] =  centroids[n_centriod,:] +X[i,:]\n",
    "        count[n_centriod] = count[n_centriod] + 1\n",
    "    \n",
    "    centroids = centroids/count\n",
    "    \n",
    "    return centroids"
   ]
  },
  {
   "cell_type": "markdown",
   "metadata": {
    "colab_type": "text",
    "id": "RSgS9LM_MTtJ"
   },
   "source": [
    "### Random initialization \n",
    "This code pickup randomly values of K cetroids. you should use it whne you create initaial centroids. you will use this fuction to initalise the centroids"
   ]
  },
  {
   "cell_type": "code",
   "execution_count": 5,
   "metadata": {
    "colab": {},
    "colab_type": "code",
    "id": "ybtWSFMSMTtJ"
   },
   "outputs": [],
   "source": [
    "def kMeansInitCentroids(X, K):\n",
    "    \"\"\"\n",
    "    This function initializes K centroids that are to be used in K-means on the dataset x.\n",
    "    \n",
    "    Parameters\n",
    "    ----------\n",
    "    X : array_like  The dataset of size (m x n).\n",
    "    K : int The number of clusters.\n",
    "    \n",
    "    Returns\n",
    "    -------   centroids : array_like Centroids of the clusters. This is a matrix of size (K x n).\n",
    "    \"\"\"\n",
    "    m, n = X.shape\n",
    "    centroids = X[np.random.choice(m, K, replace=False)]\n",
    "  \n",
    "    return centroids"
   ]
  },
  {
   "cell_type": "markdown",
   "metadata": {},
   "source": [
    "#### Calculate cost for each cetroid\n",
    "Here you will calculate the cost for each centroid and the total costs for all centroids. A cost of a single object corresponds to  a squared distances (norm) from the centroid to the object in the cluster, with the assumption that cost for the z-distance is 2 times of the norm suqered distance). A cost for a cluster is a sum of costs of all objects in the cluster. A total cost of clusters is a sum of a costs foe clusters."
   ]
  },
  {
   "cell_type": "code",
   "execution_count": 6,
   "metadata": {},
   "outputs": [],
   "source": [
    "def clusterCosts (X, idx, centroids):\n",
    "    \"\"\"\n",
    "    Returns the costs for centroids as a sum of distances (assuing 2 times distance of z-coordinate)\n",
    "    \n",
    "    Parameters\n",
    "    ----------\n",
    "    X : array_like - The dataset where each row is a single data point. That is, it  is a matrix of size (m, n) where there are m datapoints each\n",
    "        having n dimensions. \n",
    "    \n",
    "    idx : array_like \n",
    "        A vector (size m) of centroid assignments (i.e. each entry in range [0 ... K-1]) for each example.\n",
    "    \n",
    "    centroids : matrix (K,n) where K is the number of clusters, and n is a dimesion of a centroid\n",
    "    \n",
    "    Returns\n",
    "    -------\n",
    "    centroidCost : array_like - A vector of size (K, ) where each element is a cost for each cetroid\n",
    "    \n",
    "    \"\"\"\n",
    "    K = centroids.shape[0] #number of centroids\n",
    "    m = X.shape[0]  # number of elements\n",
    "    centroidCost = np.zeros(K)\n",
    "    \n",
    "    print(K)\n",
    "    #================================YOUR CODE HERE ============================================\n",
    "   \n",
    "    for i in range(K):\n",
    "        tempCost = 0\n",
    "        for j in range(m):\n",
    "            if (i==idx[j]):\n",
    "                normDistance = np.sqrt(np.power((centroids[i:i+1,:1]-X[j:j+1,:1]),2)+np.power((centroids[i:i+1,1:2]-X[j:j+1,1:2]),2))\n",
    "                tempCost += normDistance + (2*normDistance)\n",
    "        \n",
    "        centroidCost[i] = tempCost\n",
    "        \n",
    "    \n",
    "    #===========================================================================================\n",
    "         \n",
    "    return centroidCost     \n",
    "  "
   ]
  },
  {
   "cell_type": "code",
   "execution_count": null,
   "metadata": {},
   "outputs": [],
   "source": []
  },
  {
   "cell_type": "markdown",
   "metadata": {
    "colab_type": "text",
    "id": "K3tyl28RMTtB"
   },
   "source": [
    "Once you have completed the code in `computeCentroids`, the following cell will run your code and output the centroids after the first step of K-means."
   ]
  },
  {
   "cell_type": "code",
   "execution_count": null,
   "metadata": {},
   "outputs": [],
   "source": []
  },
  {
   "cell_type": "markdown",
   "metadata": {},
   "source": [
    "#### Creating centroits and calcilating the costs\n",
    "In the next cell you will write a code to estimte the best number of centrids between 2 and 50. For each number of centroids you should calculate the cost (that corresponds to sum of distances, assuming that z-distance costs 2 times.\n",
    "Concretly you should do\n",
    "\n",
    "* create a loop with variation of number of centroids (clusters)\n",
    "* in the loop you should\n",
    "    - create a corresponding number of clusters using kMeansInitCentroids function\n",
    "    - find the centroids\n",
    "    - calculate the total cost for each set of clusters"
   ]
  },
  {
   "cell_type": "code",
   "execution_count": 7,
   "metadata": {},
   "outputs": [
    {
     "name": "stdout",
     "output_type": "stream",
     "text": [
      "1\n",
      "2\n",
      "3\n",
      "4\n",
      "5\n",
      "6\n",
      "7\n",
      "8\n",
      "9\n",
      "10\n",
      "11\n",
      "12\n",
      "13\n",
      "14\n",
      "15\n",
      "16\n",
      "17\n",
      "18\n",
      "19\n",
      "20\n",
      "21\n",
      "22\n",
      "23\n",
      "24\n",
      "25\n",
      "26\n",
      "27\n",
      "28\n",
      "29\n",
      "30\n",
      "31\n",
      "32\n",
      "33\n",
      "34\n",
      "35\n",
      "36\n",
      "37\n",
      "38\n",
      "39\n",
      "40\n",
      "41\n",
      "42\n",
      "43\n",
      "44\n",
      "45\n",
      "46\n",
      "47\n",
      "48\n",
      "49\n",
      "50\n",
      "[108318.67776957  62851.81857037  56154.41437351  53653.49140415\n",
      "  74515.11631942  46455.63894768  36565.41791613  33617.74743188\n",
      "  31610.14860173  36221.47189008  36159.30454897  28159.09308176\n",
      "  43990.26854282  29941.78338983  31191.7538714   28613.48717288\n",
      "  27608.50772228  30047.34053649  29593.0934393   26908.54204346\n",
      "  26748.55104222  25782.77897187  32348.16806696  26781.02442928\n",
      "  23766.84097299  24344.70290426  25948.45810455  24050.58736107\n",
      "  23627.75962073  24659.61873949  23095.56493759  22732.05868211\n",
      "  22508.40352373  20752.64319104  21577.6934593   20742.52755384\n",
      "  23295.81675268  21764.54615411  20752.30778911  23406.88001683\n",
      "  21449.8911154   20021.60987902  21549.25491522  19850.78310838\n",
      "  21022.57691172  19333.84071728  20030.29412858  19145.78340469\n",
      "  20304.9773017   19100.5251318 ]\n"
     ]
    },
    {
     "data": {
      "image/png": "[encoded data removed]",
      "text/plain": [
       "<Figure size 432x288 with 1 Axes>"
      ]
     },
     "metadata": {
      "needs_background": "light"
     },
     "output_type": "display_data"
    }
   ],
   "source": [
    "# loop for the clusters \n",
    "\n",
    "\n",
    "maxC = 50 # test for up to 50 clusters\n",
    "costK =np.zeros(maxC) # costs for each number of clusters \n",
    "#====================YOUR CODE HERE ========================\n",
    "\n",
    "\n",
    "\n",
    "for n_clusters in range(1,maxC+1):\n",
    "    #initialize the centroids in the beginning\n",
    "    init_centroids = kMeansInitCentroids(X,n_clusters)\n",
    "#     print(init_centroids)\n",
    "    \n",
    "    # Find the closest centroids for the examples using the initial_centroids\n",
    "    idx = findClosestCentroids(X, init_centroids)\n",
    "    \n",
    "#     centroids, idx, _ = utils.runkMeans(X, init_centroids, findClosestCentroids, computeCentroids, 2, True)\n",
    "    \n",
    "    #compute cost \n",
    "    costK [n_clusters-1] = np.sum(clusterCosts (X, idx, init_centroids))\n",
    "\n",
    "\n",
    "# ==================================================================   \n",
    "# this sequence prints and plots the costs in realted to number of clusters \n",
    "print (costK)\n",
    "pyplot.plot(range(maxC), costK, 'ro', ms=10, mec='k', mew=1)\n",
    "pyplot.xlabel('centroids')\n",
    "pyplot.ylabel('costs');"
   ]
  },
  {
   "cell_type": "code",
   "execution_count": null,
   "metadata": {},
   "outputs": [],
   "source": []
  },
  {
   "cell_type": "markdown",
   "metadata": {},
   "source": [
    "#### Based on the graph decide which number of clusters would be the most appropriate. Explain your choice"
   ]
  },
  {
   "cell_type": "markdown",
   "metadata": {},
   "source": []
  },
  {
   "cell_type": "markdown",
   "metadata": {
    "colab_type": "text",
    "id": "2DFTLIJeugne"
   },
   "source": [
    "## Submit the solution\n",
    "\n",
    "When you completed the excercise, download (form File menu) this file as a jupyter Notebook file (.ipynb) and uplaod this file in the CANVAS \n",
    "\n",
    "*By writing down my name I declare that I have done the assignements myself\n",
    "\n",
    "* First Name  Last Name:"
   ]
  },
  {
   "cell_type": "code",
   "execution_count": null,
   "metadata": {},
   "outputs": [],
   "source": []
  }
 ],
 "metadata": {
  "colab": {
   "collapsed_sections": [],
   "name": "Lab5.ipynb",
   "provenance": []
  },
  "kernelspec": {
   "display_name": "Python 3",
   "language": "python",
   "name": "python3"
  },
  "language_info": {
   "codemirror_mode": {
    "name": "ipython",
    "version": 3
   },
   "file_extension": ".py",
   "mimetype": "text/x-python",
   "name": "python",
   "nbconvert_exporter": "python",
   "pygments_lexer": "ipython3",
   "version": "3.7.6"
  }
 },
 "nbformat": 4,
 "nbformat_minor": 4
}

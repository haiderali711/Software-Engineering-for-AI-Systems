{
 "cells": [
  {
   "cell_type": "markdown",
   "metadata": {},
   "source": [
    "# DIT821 Software Engineering for AI systems - exam 2020-08-17\n",
    "\n",
    "\n",
    "### Assignement: ML engineering "
   ]
  },
  {
   "cell_type": "code",
   "execution_count": null,
   "metadata": {},
   "outputs": [],
   "source": []
  },
  {
   "cell_type": "markdown",
   "metadata": {},
   "source": [
    "* Name, e-mail:"
   ]
  },
  {
   "cell_type": "code",
   "execution_count": 91,
   "metadata": {},
   "outputs": [],
   "source": [
    "#Haider Ali, gushaial@student.gu.se"
   ]
  },
  {
   "cell_type": "markdown",
   "metadata": {},
   "source": [
    "### Assignement description\n",
    "\n",
    "\n",
    "You are provided with the `Personal Health Cost` dataset that contains information about individual medical costs billed by a health insurance company. The dataset contains the following information:\n",
    "\n",
    "- **Age**: age of primary beneficiary\n",
    "- **Sex**: insurance contractor gender, female, male\n",
    "- **BMI**: Body mass index, providing an understanding of body weights that are relatively high or low relative to height objective index of body weight (kg / m ^ 2) using the ratio of height to weight, ideally 18.5 to 24.9\n",
    "- **Children**: Number of children covered by health insurance / Number of dependents\n",
    "- **Smoker**: Smoking\n",
    "- **Region**: the beneficiary's residential area in the US, northeast, southeast, southwest, northwest.\n",
    "- **Charges**: Individual medical costs billed by health insurance\n",
    "\n",
    "\n",
    "You are required to prepare the dataset for ML algorithm by performing the following:\n",
    "\n",
    "1. Create a Panda's DataFrame and print its basic characteristics\n",
    "2. Explore data through visualization (e.g., histograms, scatterplots and pivot tables) and correlations. Comment your selected data analysis and what you intend to achieve with it\n",
    "3. Prepare dataset by handling missing values, removing outliers and perfoming one-hot encoding\n",
    "4. Based on data exploration, state what features would you recommend for training an initial linear ML model. \n",
    "\n",
    "You can access the following documentation to achieve above: \n",
    "- Panda's Documentation :<https://pandas.pydata.org/pandas-docs/stable/reference/frame.html>\n",
    "- Matplotlibrary Documentation:<https://matplotlib.org/3.3.0/api/pyplot_summary.html>\n"
   ]
  },
  {
   "cell_type": "code",
   "execution_count": null,
   "metadata": {},
   "outputs": [],
   "source": []
  },
  {
   "cell_type": "code",
   "execution_count": 104,
   "metadata": {},
   "outputs": [],
   "source": [
    "# Import libraries\n",
    "import numpy as np\n",
    "import pandas as pd\n",
    "import matplotlib.pyplot as plt\n",
    "\n",
    "from sklearn.model_selection import train_test_split\n",
    "from sklearn.linear_model import LinearRegression\n",
    "from sklearn.metrics import mean_absolute_error, mean_squared_error\n"
   ]
  },
  {
   "cell_type": "code",
   "execution_count": 105,
   "metadata": {},
   "outputs": [
    {
     "name": "stdout",
     "output_type": "stream",
     "text": [
      "Shape: \n",
      " (1338, 7)\n",
      "<class 'pandas.core.frame.DataFrame'>\n",
      "RangeIndex: 1338 entries, 0 to 1337\n",
      "Data columns (total 7 columns):\n",
      " #   Column    Non-Null Count  Dtype  \n",
      "---  ------    --------------  -----  \n",
      " 0   age       1338 non-null   int64  \n",
      " 1   sex       1338 non-null   object \n",
      " 2   bmi       1338 non-null   float64\n",
      " 3   children  1326 non-null   float64\n",
      " 4   smoker    1321 non-null   object \n",
      " 5   region    1338 non-null   object \n",
      " 6   charges   1338 non-null   float64\n",
      "dtypes: float64(3), int64(1), object(3)\n",
      "memory usage: 73.3+ KB\n",
      "\n",
      "\n",
      "Basic information regarding dataframe: \n",
      " None\n",
      "\n",
      "\\First five rows of the Data : \n",
      "    age     sex     bmi  children smoker     region      charges\n",
      "0   19  female  27.900       0.0    yes  southwest  16884.92400\n",
      "1   18    male  33.770       1.0     no  southeast   1725.55230\n",
      "2   28    male  33.000       3.0     no  southeast   4449.46200\n",
      "3   33    male  22.705       0.0     no  northwest  21984.47061\n",
      "4   32    male  28.880       0.0     no  northwest   3866.85520\n",
      "\n",
      "\n",
      " Dataframe : \n",
      "\n"
     ]
    },
    {
     "data": {
      "text/html": [
       "<div>\n",
       "<style scoped>\n",
       "    .dataframe tbody tr th:only-of-type {\n",
       "        vertical-align: middle;\n",
       "    }\n",
       "\n",
       "    .dataframe tbody tr th {\n",
       "        vertical-align: top;\n",
       "    }\n",
       "\n",
       "    .dataframe thead th {\n",
       "        text-align: right;\n",
       "    }\n",
       "</style>\n",
       "<table border=\"1\" class=\"dataframe\">\n",
       "  <thead>\n",
       "    <tr style=\"text-align: right;\">\n",
       "      <th></th>\n",
       "      <th>age</th>\n",
       "      <th>sex</th>\n",
       "      <th>bmi</th>\n",
       "      <th>children</th>\n",
       "      <th>smoker</th>\n",
       "      <th>region</th>\n",
       "      <th>charges</th>\n",
       "    </tr>\n",
       "  </thead>\n",
       "  <tbody>\n",
       "    <tr>\n",
       "      <th>0</th>\n",
       "      <td>19</td>\n",
       "      <td>female</td>\n",
       "      <td>27.900</td>\n",
       "      <td>0.0</td>\n",
       "      <td>yes</td>\n",
       "      <td>southwest</td>\n",
       "      <td>16884.92400</td>\n",
       "    </tr>\n",
       "    <tr>\n",
       "      <th>1</th>\n",
       "      <td>18</td>\n",
       "      <td>male</td>\n",
       "      <td>33.770</td>\n",
       "      <td>1.0</td>\n",
       "      <td>no</td>\n",
       "      <td>southeast</td>\n",
       "      <td>1725.55230</td>\n",
       "    </tr>\n",
       "    <tr>\n",
       "      <th>2</th>\n",
       "      <td>28</td>\n",
       "      <td>male</td>\n",
       "      <td>33.000</td>\n",
       "      <td>3.0</td>\n",
       "      <td>no</td>\n",
       "      <td>southeast</td>\n",
       "      <td>4449.46200</td>\n",
       "    </tr>\n",
       "    <tr>\n",
       "      <th>3</th>\n",
       "      <td>33</td>\n",
       "      <td>male</td>\n",
       "      <td>22.705</td>\n",
       "      <td>0.0</td>\n",
       "      <td>no</td>\n",
       "      <td>northwest</td>\n",
       "      <td>21984.47061</td>\n",
       "    </tr>\n",
       "    <tr>\n",
       "      <th>4</th>\n",
       "      <td>32</td>\n",
       "      <td>male</td>\n",
       "      <td>28.880</td>\n",
       "      <td>0.0</td>\n",
       "      <td>no</td>\n",
       "      <td>northwest</td>\n",
       "      <td>3866.85520</td>\n",
       "    </tr>\n",
       "    <tr>\n",
       "      <th>...</th>\n",
       "      <td>...</td>\n",
       "      <td>...</td>\n",
       "      <td>...</td>\n",
       "      <td>...</td>\n",
       "      <td>...</td>\n",
       "      <td>...</td>\n",
       "      <td>...</td>\n",
       "    </tr>\n",
       "    <tr>\n",
       "      <th>1333</th>\n",
       "      <td>50</td>\n",
       "      <td>male</td>\n",
       "      <td>30.970</td>\n",
       "      <td>3.0</td>\n",
       "      <td>no</td>\n",
       "      <td>northwest</td>\n",
       "      <td>10600.54830</td>\n",
       "    </tr>\n",
       "    <tr>\n",
       "      <th>1334</th>\n",
       "      <td>18</td>\n",
       "      <td>female</td>\n",
       "      <td>31.920</td>\n",
       "      <td>0.0</td>\n",
       "      <td>no</td>\n",
       "      <td>northeast</td>\n",
       "      <td>2205.98080</td>\n",
       "    </tr>\n",
       "    <tr>\n",
       "      <th>1335</th>\n",
       "      <td>18</td>\n",
       "      <td>female</td>\n",
       "      <td>36.850</td>\n",
       "      <td>0.0</td>\n",
       "      <td>no</td>\n",
       "      <td>southeast</td>\n",
       "      <td>1629.83350</td>\n",
       "    </tr>\n",
       "    <tr>\n",
       "      <th>1336</th>\n",
       "      <td>21</td>\n",
       "      <td>female</td>\n",
       "      <td>1.000</td>\n",
       "      <td>0.0</td>\n",
       "      <td>no</td>\n",
       "      <td>southwest</td>\n",
       "      <td>2007.94500</td>\n",
       "    </tr>\n",
       "    <tr>\n",
       "      <th>1337</th>\n",
       "      <td>1</td>\n",
       "      <td>female</td>\n",
       "      <td>29.070</td>\n",
       "      <td>0.0</td>\n",
       "      <td>yes</td>\n",
       "      <td>northwest</td>\n",
       "      <td>29141.36030</td>\n",
       "    </tr>\n",
       "  </tbody>\n",
       "</table>\n",
       "<p>1338 rows × 7 columns</p>\n",
       "</div>"
      ],
      "text/plain": [
       "      age     sex     bmi  children smoker     region      charges\n",
       "0      19  female  27.900       0.0    yes  southwest  16884.92400\n",
       "1      18    male  33.770       1.0     no  southeast   1725.55230\n",
       "2      28    male  33.000       3.0     no  southeast   4449.46200\n",
       "3      33    male  22.705       0.0     no  northwest  21984.47061\n",
       "4      32    male  28.880       0.0     no  northwest   3866.85520\n",
       "...   ...     ...     ...       ...    ...        ...          ...\n",
       "1333   50    male  30.970       3.0     no  northwest  10600.54830\n",
       "1334   18  female  31.920       0.0     no  northeast   2205.98080\n",
       "1335   18  female  36.850       0.0     no  southeast   1629.83350\n",
       "1336   21  female   1.000       0.0     no  southwest   2007.94500\n",
       "1337    1  female  29.070       0.0    yes  northwest  29141.36030\n",
       "\n",
       "[1338 rows x 7 columns]"
      ]
     },
     "execution_count": 105,
     "metadata": {},
     "output_type": "execute_result"
    }
   ],
   "source": [
    "# 1. Create a Panda's DataFrame and print its basic characteristics\n",
    "# ===== YOUR CODE HERE ==========\n",
    "#importing the file \n",
    "exam_dataframe = pd.read_csv('./personal_health_dirty.csv')\n",
    "\n",
    "# Print shape of the dataframe imported\n",
    "print('Shape: \\n', exam_dataframe.shape)\n",
    "\n",
    "# Print DataFrame.info() \n",
    "#  ===== YOUR CODE HERE ==========    \n",
    "print('\\n\\nBasic information regarding dataframe: \\n',exam_dataframe.info())\n",
    "\n",
    "# #  ===== YOUR CODE HERE ==========\n",
    "print('\\n\\First five rows of the Data : \\n', exam_dataframe.head())\n",
    "\n",
    "print('\\n\\n Dataframe : \\n')\n",
    "exam_dataframe"
   ]
  },
  {
   "cell_type": "code",
   "execution_count": 106,
   "metadata": {},
   "outputs": [
    {
     "data": {
      "image/png": "[encoded data removed]",
      "text/plain": [
       "<Figure size 2160x1440 with 4 Axes>"
      ]
     },
     "metadata": {
      "needs_background": "light"
     },
     "output_type": "display_data"
    }
   ],
   "source": [
    "# 2. Explore data through visualization and correlations. \n",
    "# Comment the selected data analysis and what you intend to achieve with it\n",
    "# ===== YOUR CODE HERE ==========\n",
    "exam_dataframe.hist(figsize=(30,20))\n",
    "plt.title('Histogram of Numeric features')\n",
    "plt.show()\n"
   ]
  },
  {
   "cell_type": "code",
   "execution_count": 107,
   "metadata": {},
   "outputs": [
    {
     "name": "stdout",
     "output_type": "stream",
     "text": [
      "charges     1.000000\n",
      "age         0.294275\n",
      "bmi         0.199461\n",
      "children    0.069573\n",
      "Name: charges, dtype: float64\n"
     ]
    }
   ],
   "source": [
    "#Feature Correlations\n",
    "feature_correlations = exam_dataframe.corr()\n",
    "print(feature_correlations['charges'].sort_values(ascending=False))\n"
   ]
  },
  {
   "cell_type": "code",
   "execution_count": 108,
   "metadata": {},
   "outputs": [
    {
     "data": {
      "image/png": "[encoded data removed]",
      "text/plain": [
       "<Figure size 432x288 with 9 Axes>"
      ]
     },
     "metadata": {
      "needs_background": "light"
     },
     "output_type": "display_data"
    }
   ],
   "source": [
    "#we see that the feature charges is MOSTLY correlated to the Age feature\n",
    "\n",
    "scatter_features = pd.DataFrame(exam_dataframe,columns=['charges', 'age', 'bmi'])\n",
    "\n",
    "pd.plotting.scatter_matrix(scatter_features,  diagonal= 'hist')\n",
    "plt.show()"
   ]
  },
  {
   "cell_type": "code",
   "execution_count": 109,
   "metadata": {},
   "outputs": [
    {
     "name": "stdout",
     "output_type": "stream",
     "text": [
      "\n",
      "\n",
      "Dataframe before taking off the outliers :  (1338, 7)\n"
     ]
    },
    {
     "data": {
      "image/png": "[encoded data removed]",
      "text/plain": [
       "<Figure size 432x288 with 1 Axes>"
      ]
     },
     "metadata": {
      "needs_background": "light"
     },
     "output_type": "display_data"
    },
    {
     "name": "stdout",
     "output_type": "stream",
     "text": [
      "\n",
      "\n",
      "Dataframe before taking off the outliers from CHARGES :  (1331, 7)\n",
      "\n",
      "\n",
      "Dataframe before taking off the outliers from AGE :  (1330, 7)\n"
     ]
    },
    {
     "data": {
      "text/plain": [
       "<matplotlib.axes._subplots.AxesSubplot at 0x7f80447ed350>"
      ]
     },
     "execution_count": 109,
     "metadata": {},
     "output_type": "execute_result"
    },
    {
     "data": {
      "image/png": "[encoded data removed]",
      "text/plain": [
       "<Figure size 432x288 with 1 Axes>"
      ]
     },
     "metadata": {
      "needs_background": "light"
     },
     "output_type": "display_data"
    },
    {
     "data": {
      "image/png": "[encoded data removed]",
      "text/plain": [
       "<Figure size 432x288 with 1 Axes>"
      ]
     },
     "metadata": {
      "needs_background": "light"
     },
     "output_type": "display_data"
    },
    {
     "data": {
      "image/png": "[encoded data removed]",
      "text/plain": [
       "<Figure size 432x288 with 1 Axes>"
      ]
     },
     "metadata": {
      "needs_background": "light"
     },
     "output_type": "display_data"
    }
   ],
   "source": [
    "# 3. Prepare dataset (handle missing values, outliers and perform one-hot encoding)\n",
    "# ===== YOUR CODE HERE ==========\n",
    "\n",
    "\n",
    "def missing_in_dataframe(df):\n",
    "    missing_count = df.isnull().sum().sort_values(ascending= False)\n",
    "    missing_count = missing_count[missing_count != 0]\n",
    "    return missing_count\n",
    "    \n",
    "\n",
    "print('\\n\\nDataframe before taking off the outliers : ',exam_dataframe.shape)\n",
    "plt.scatter(scatter_features['charges'],scatter_features['age'])\n",
    "plt.show()\n",
    "#we can see that there are some outliers when the charges are over 50000 so we remove them and from age < 10 too \n",
    "df_outlier = exam_dataframe.loc[exam_dataframe['charges'] > 50000]\n",
    "exam_dataframe = exam_dataframe.drop(df_outlier.index)\n",
    "print('\\n\\nDataframe before taking off the outliers from CHARGES : ',exam_dataframe.shape)\n",
    "\n",
    "df_outlier = exam_dataframe.loc[exam_dataframe['age'] < 10]\n",
    "exam_dataframe = exam_dataframe.drop(df_outlier.index)\n",
    "print('\\n\\nDataframe before taking off the outliers from AGE : ',exam_dataframe.shape)\n",
    "\n",
    "#RELATIONSHIP WITH PIVOT TABLE AND CATEGORICAL VALUES IN THE DATAFRAME\n",
    "\n",
    "region_pivot = exam_dataframe.pivot_table(index='region', values='charges', aggfunc=np.median)\n",
    "region_pivot.plot(kind='bar',label='Sale Condition',color='Red')\n",
    "\n",
    "sex_pivot = exam_dataframe.pivot_table(index='sex', values='charges', aggfunc=np.median)\n",
    "sex_pivot.plot(kind='bar',label='Sale Condition',color='Yellow')\n",
    "\n",
    "smoker_pivot = exam_dataframe.pivot_table(index='smoker', values='charges', aggfunc=np.median)\n",
    "smoker_pivot.plot(kind='bar',label='Sale Condition',color='Gray')\n"
   ]
  },
  {
   "cell_type": "code",
   "execution_count": 110,
   "metadata": {},
   "outputs": [
    {
     "name": "stdout",
     "output_type": "stream",
     "text": [
      "Missing Values in the Dataframe : \n",
      " smoker      17\n",
      "children    12\n",
      "dtype: int64\n",
      "Missing Values in the Dataframe AGAIN : \n",
      " Series([], dtype: int64)\n",
      "\n",
      "\n",
      "\n",
      "\n",
      "Shape of features after one-hot encoding:\n",
      " (1330, 13)\n"
     ]
    }
   ],
   "source": [
    "\n",
    "#we can see that the smokers have much much higher health charges than the non smokers in the pivot table \n",
    "\n",
    "\n",
    "#Missing values in the Dataframe\n",
    "print('Missing Values in the Dataframe : \\n',missing_in_dataframe(exam_dataframe))\n",
    "\n",
    "#Since Children are numerical values and the number of children data missing is only 12 we can fill it with the mean value\n",
    "exam_dataframe['children'] = exam_dataframe['children'].transform(lambda x: x.fillna(x.median()))\n",
    "\n",
    "#since Smoker are categorical we filll the missing with 'no'\n",
    "exam_dataframe['smoker'] = exam_dataframe['smoker'].fillna(\"None\")\n",
    "\n",
    "#Missing values in the Dataframe\n",
    "print('Missing Values in the Dataframe AGAIN : \\n',missing_in_dataframe(exam_dataframe))\n",
    "\n",
    "print('\\n\\n\\n')\n",
    "\n",
    "\n",
    "#Apply one hot encoding for all the catagorical values\n",
    "exam_dataframe = pd.get_dummies(exam_dataframe)\n",
    "\n",
    "# Print DataFrame shape of features and target variable\n",
    "print('Shape of features after one-hot encoding:\\n', exam_dataframe.shape)\n"
   ]
  },
  {
   "cell_type": "code",
   "execution_count": 111,
   "metadata": {},
   "outputs": [
    {
     "name": "stdout",
     "output_type": "stream",
     "text": [
      "Shape of dataset :  (1330, 12)\n",
      "Shape of target :  (1330,)\n"
     ]
    },
    {
     "data": {
      "text/html": [
       "<div>\n",
       "<style scoped>\n",
       "    .dataframe tbody tr th:only-of-type {\n",
       "        vertical-align: middle;\n",
       "    }\n",
       "\n",
       "    .dataframe tbody tr th {\n",
       "        vertical-align: top;\n",
       "    }\n",
       "\n",
       "    .dataframe thead th {\n",
       "        text-align: right;\n",
       "    }\n",
       "</style>\n",
       "<table border=\"1\" class=\"dataframe\">\n",
       "  <thead>\n",
       "    <tr style=\"text-align: right;\">\n",
       "      <th></th>\n",
       "      <th>age</th>\n",
       "      <th>bmi</th>\n",
       "      <th>children</th>\n",
       "      <th>sex_female</th>\n",
       "      <th>sex_male</th>\n",
       "      <th>smoker_None</th>\n",
       "      <th>smoker_no</th>\n",
       "      <th>smoker_yes</th>\n",
       "      <th>region_northeast</th>\n",
       "      <th>region_northwest</th>\n",
       "      <th>region_southeast</th>\n",
       "      <th>region_southwest</th>\n",
       "    </tr>\n",
       "  </thead>\n",
       "  <tbody>\n",
       "    <tr>\n",
       "      <th>0</th>\n",
       "      <td>19</td>\n",
       "      <td>27.900</td>\n",
       "      <td>0.0</td>\n",
       "      <td>1</td>\n",
       "      <td>0</td>\n",
       "      <td>0</td>\n",
       "      <td>0</td>\n",
       "      <td>1</td>\n",
       "      <td>0</td>\n",
       "      <td>0</td>\n",
       "      <td>0</td>\n",
       "      <td>1</td>\n",
       "    </tr>\n",
       "    <tr>\n",
       "      <th>1</th>\n",
       "      <td>18</td>\n",
       "      <td>33.770</td>\n",
       "      <td>1.0</td>\n",
       "      <td>0</td>\n",
       "      <td>1</td>\n",
       "      <td>0</td>\n",
       "      <td>1</td>\n",
       "      <td>0</td>\n",
       "      <td>0</td>\n",
       "      <td>0</td>\n",
       "      <td>1</td>\n",
       "      <td>0</td>\n",
       "    </tr>\n",
       "    <tr>\n",
       "      <th>2</th>\n",
       "      <td>28</td>\n",
       "      <td>33.000</td>\n",
       "      <td>3.0</td>\n",
       "      <td>0</td>\n",
       "      <td>1</td>\n",
       "      <td>0</td>\n",
       "      <td>1</td>\n",
       "      <td>0</td>\n",
       "      <td>0</td>\n",
       "      <td>0</td>\n",
       "      <td>1</td>\n",
       "      <td>0</td>\n",
       "    </tr>\n",
       "    <tr>\n",
       "      <th>3</th>\n",
       "      <td>33</td>\n",
       "      <td>22.705</td>\n",
       "      <td>0.0</td>\n",
       "      <td>0</td>\n",
       "      <td>1</td>\n",
       "      <td>0</td>\n",
       "      <td>1</td>\n",
       "      <td>0</td>\n",
       "      <td>0</td>\n",
       "      <td>1</td>\n",
       "      <td>0</td>\n",
       "      <td>0</td>\n",
       "    </tr>\n",
       "    <tr>\n",
       "      <th>4</th>\n",
       "      <td>32</td>\n",
       "      <td>28.880</td>\n",
       "      <td>0.0</td>\n",
       "      <td>0</td>\n",
       "      <td>1</td>\n",
       "      <td>0</td>\n",
       "      <td>1</td>\n",
       "      <td>0</td>\n",
       "      <td>0</td>\n",
       "      <td>1</td>\n",
       "      <td>0</td>\n",
       "      <td>0</td>\n",
       "    </tr>\n",
       "    <tr>\n",
       "      <th>...</th>\n",
       "      <td>...</td>\n",
       "      <td>...</td>\n",
       "      <td>...</td>\n",
       "      <td>...</td>\n",
       "      <td>...</td>\n",
       "      <td>...</td>\n",
       "      <td>...</td>\n",
       "      <td>...</td>\n",
       "      <td>...</td>\n",
       "      <td>...</td>\n",
       "      <td>...</td>\n",
       "      <td>...</td>\n",
       "    </tr>\n",
       "    <tr>\n",
       "      <th>1332</th>\n",
       "      <td>52</td>\n",
       "      <td>44.700</td>\n",
       "      <td>3.0</td>\n",
       "      <td>1</td>\n",
       "      <td>0</td>\n",
       "      <td>0</td>\n",
       "      <td>1</td>\n",
       "      <td>0</td>\n",
       "      <td>0</td>\n",
       "      <td>0</td>\n",
       "      <td>0</td>\n",
       "      <td>1</td>\n",
       "    </tr>\n",
       "    <tr>\n",
       "      <th>1333</th>\n",
       "      <td>50</td>\n",
       "      <td>30.970</td>\n",
       "      <td>3.0</td>\n",
       "      <td>0</td>\n",
       "      <td>1</td>\n",
       "      <td>0</td>\n",
       "      <td>1</td>\n",
       "      <td>0</td>\n",
       "      <td>0</td>\n",
       "      <td>1</td>\n",
       "      <td>0</td>\n",
       "      <td>0</td>\n",
       "    </tr>\n",
       "    <tr>\n",
       "      <th>1334</th>\n",
       "      <td>18</td>\n",
       "      <td>31.920</td>\n",
       "      <td>0.0</td>\n",
       "      <td>1</td>\n",
       "      <td>0</td>\n",
       "      <td>0</td>\n",
       "      <td>1</td>\n",
       "      <td>0</td>\n",
       "      <td>1</td>\n",
       "      <td>0</td>\n",
       "      <td>0</td>\n",
       "      <td>0</td>\n",
       "    </tr>\n",
       "    <tr>\n",
       "      <th>1335</th>\n",
       "      <td>18</td>\n",
       "      <td>36.850</td>\n",
       "      <td>0.0</td>\n",
       "      <td>1</td>\n",
       "      <td>0</td>\n",
       "      <td>0</td>\n",
       "      <td>1</td>\n",
       "      <td>0</td>\n",
       "      <td>0</td>\n",
       "      <td>0</td>\n",
       "      <td>1</td>\n",
       "      <td>0</td>\n",
       "    </tr>\n",
       "    <tr>\n",
       "      <th>1336</th>\n",
       "      <td>21</td>\n",
       "      <td>1.000</td>\n",
       "      <td>0.0</td>\n",
       "      <td>1</td>\n",
       "      <td>0</td>\n",
       "      <td>0</td>\n",
       "      <td>1</td>\n",
       "      <td>0</td>\n",
       "      <td>0</td>\n",
       "      <td>0</td>\n",
       "      <td>0</td>\n",
       "      <td>1</td>\n",
       "    </tr>\n",
       "  </tbody>\n",
       "</table>\n",
       "<p>1330 rows × 12 columns</p>\n",
       "</div>"
      ],
      "text/plain": [
       "      age     bmi  children  sex_female  sex_male  smoker_None  smoker_no  \\\n",
       "0      19  27.900       0.0           1         0            0          0   \n",
       "1      18  33.770       1.0           0         1            0          1   \n",
       "2      28  33.000       3.0           0         1            0          1   \n",
       "3      33  22.705       0.0           0         1            0          1   \n",
       "4      32  28.880       0.0           0         1            0          1   \n",
       "...   ...     ...       ...         ...       ...          ...        ...   \n",
       "1332   52  44.700       3.0           1         0            0          1   \n",
       "1333   50  30.970       3.0           0         1            0          1   \n",
       "1334   18  31.920       0.0           1         0            0          1   \n",
       "1335   18  36.850       0.0           1         0            0          1   \n",
       "1336   21   1.000       0.0           1         0            0          1   \n",
       "\n",
       "      smoker_yes  region_northeast  region_northwest  region_southeast  \\\n",
       "0              1                 0                 0                 0   \n",
       "1              0                 0                 0                 1   \n",
       "2              0                 0                 0                 1   \n",
       "3              0                 0                 1                 0   \n",
       "4              0                 0                 1                 0   \n",
       "...          ...               ...               ...               ...   \n",
       "1332           0                 0                 0                 0   \n",
       "1333           0                 0                 1                 0   \n",
       "1334           0                 1                 0                 0   \n",
       "1335           0                 0                 0                 1   \n",
       "1336           0                 0                 0                 0   \n",
       "\n",
       "      region_southwest  \n",
       "0                    1  \n",
       "1                    0  \n",
       "2                    0  \n",
       "3                    0  \n",
       "4                    0  \n",
       "...                ...  \n",
       "1332                 1  \n",
       "1333                 0  \n",
       "1334                 0  \n",
       "1335                 0  \n",
       "1336                 1  \n",
       "\n",
       "[1330 rows x 12 columns]"
      ]
     },
     "execution_count": 111,
     "metadata": {},
     "output_type": "execute_result"
    }
   ],
   "source": [
    "# 1. Separate the features from the target (charges) in the already prepared and cleaned dataset\n",
    "# ===== YOUR CODE HERE ==========\n",
    "data_features = exam_dataframe.drop(columns='charges', axis =1) \n",
    "data_target = exam_dataframe[\"charges\"].copy() \n",
    "data_target.columns = ['charges']\n",
    "\n",
    "print('Shape of dataset : ', data_features.shape)\n",
    "print('Shape of target : ', data_target.shape)\n",
    "data_features"
   ]
  },
  {
   "cell_type": "code",
   "execution_count": 112,
   "metadata": {},
   "outputs": [],
   "source": [
    "# 2. Split dataset into train and test set\n",
    "# ===== YOUR CODE HERE ==========\n",
    "X_train, X_test, y_train, y_test = train_test_split(data_features, data_target, test_size= 0.2, random_state=0)\n",
    "\n"
   ]
  },
  {
   "cell_type": "code",
   "execution_count": 113,
   "metadata": {},
   "outputs": [
    {
     "name": "stdout",
     "output_type": "stream",
     "text": [
      "R^2 trainig data:  34474787.37412767\n",
      "R^2 test data:  31371809.523426175\n"
     ]
    }
   ],
   "source": [
    "# 3. Train and evaluate a simple linear regression model on all features\n",
    "# ===== YOUR CODE HERE ==========\n",
    "model = LinearRegression()\n",
    "model.fit(X_train, y_train)\n",
    "\n",
    "#calculating predictions with the LR model\n",
    "Y_train_pred = model.predict(X_train)\n",
    "Y_test_pred = model.predict(X_test)\n",
    "\n",
    "#calculating the R^2 for both sets by comparing predictions with training data\n",
    "r_2_train = mean_squared_error(y_train, Y_train_pred)\n",
    "r_2_test = mean_squared_error(y_test, Y_test_pred)\n",
    "\n",
    "\n",
    "print('R^2 trainig data: ', r_2_train)\n",
    "print('R^2 test data: ', r_2_test)"
   ]
  },
  {
   "cell_type": "code",
   "execution_count": 114,
   "metadata": {},
   "outputs": [
    {
     "name": "stdout",
     "output_type": "stream",
     "text": [
      "R^2 trainig data:  34635180.48775554\n",
      "R^2 test data:  31499158.55526453\n"
     ]
    }
   ],
   "source": [
    "# 4. Train and evaluate a simple linear model on selected features \n",
    "# (age, bmi, children, smoker (one-hot encoding))\n",
    "new_data_features = pd.DataFrame([data_features.age, data_features.bmi, data_features.children , data_features.smoker_no, data_features.smoker_yes]).transpose()\n",
    "new_data_features\n",
    "X_train, x_test, Y_train, y_test = train_test_split(new_data_features,\n",
    "                                                    data_target,\n",
    "                                                   test_size=0.2,\n",
    "                                                    random_state=0)\n",
    "\n",
    "# Train and evaluate\n",
    "model = LinearRegression()\n",
    "model.fit(X_train, Y_train)\n",
    "\n",
    "Y_train_pred = model.predict(X_train)\n",
    "Y_test_pred = model.predict(x_test)\n",
    "\n",
    "r_2_train = mean_squared_error(Y_train, Y_train_pred)\n",
    "r_2_test = mean_squared_error(y_test, Y_test_pred)\n",
    "\n",
    "\n",
    "print('R^2 trainig data: ', r_2_train)\n",
    "print('R^2 test data: ', r_2_test)"
   ]
  },
  {
   "cell_type": "markdown",
   "metadata": {},
   "source": [
    "### 4. Feature Selection\n",
    "\n",
    "#### Selected features for initial model are:\n",
    "\n",
    "#### Rationale:\n",
    "\n"
   ]
  },
  {
   "cell_type": "code",
   "execution_count": null,
   "metadata": {},
   "outputs": [],
   "source": [
    "### Lucy's\n",
    "# 1. Create a panda's Dataframe and print its basic characteristics\n",
    "personal_health_data = pd.read_csv('./personal_health_dirty.csv')\n",
    "\n",
    "print('Shape (1338, 7): ', personal_health_data.shape)\n",
    "personal_health_data.info()\n",
    "print(personal_health_data.describe(exclude=np.number))\n",
    "\n",
    "\n",
    "# 2. Explore data\n",
    "## Histogram\n",
    "#personal_health_data.hist(figsize=(20,10))\n",
    "\n",
    "## Scatter matrix\n",
    "pd.plotting.scatter_matrix(personal_health_data, figsize=(10,10))\n",
    "plt.show()\n",
    "\n",
    "# Scatter plot of Charges and bmi, age\n",
    "#plt.scatter(personal_health_data.charges,personal_health_data.age)\n",
    "#plt.show() ## remove outlier age below 10\n",
    "\n",
    "## Correlations\n",
    "# personal_health_data.corr()\n",
    "\n",
    "## Pivot table\n",
    "smoker_pivot = personal_health_data.pivot_table(index='smoker', values='charges', \n",
    "                                                aggfunc=np.median, fill_value='no')\n",
    "smoker_pivot.plot(kind='bar',label='Smoker',color='blue')\n",
    "\n",
    "\n",
    "sex_pivot=  personal_health_data.pivot_table(index='sex', values='charges', \n",
    "                                                aggfunc=np.median)\n",
    "sex_pivot.plot(kind='bar',label='Sex',color='blue')\n",
    "\n",
    "\n",
    "region_pivot = personal_health_data.pivot_table(index='region', values='charges', \n",
    "                                                aggfunc=np.median)\n",
    "region_pivot.plot(kind='bar',label='Region',color='blue')\n",
    "\n",
    "# 3. Prepare dataset\n",
    "## Remove outlier bmi less than 10\n",
    "row_index = personal_health_data.loc[personal_health_data['bmi']<10]\n",
    "personal_health_data = personal_health_data.drop(row_index.index)\n",
    "print('Shape: (1337, 7)',personal_health_data.shape)\n",
    "\n",
    "## Fill missing for children (Null with 0) and smoker (Null with 'no' )\n",
    "# Fill nulls for children (Null with 0)\n",
    "personal_health_data['children'].fillna(0, inplace=True)\n",
    "\n",
    "# Fill nulls for smoker (Null with 'no' )\n",
    "personal_health_data['smoker'].fillna(value=\"no\", inplace=True)\n",
    "\n",
    "# Check no missing\n",
    "print(personal_health_data.isna().sum().sort_values(ascending= False))\n",
    "\n",
    "\n",
    "## Features: age, bmi, children, smoker (one-hot encoding), region (one-hot encoding)"
   ]
  },
  {
   "cell_type": "markdown",
   "metadata": {},
   "source": [
    "## Submit the solution\n",
    "\n",
    "When you completed the excercise, download (form File menu) this file as a jupyter Notebook file (.ipynb) and uplaod this file in the CANVAS \n",
    "\n",
    "*By writing down my name I declare that I have done the assignements myself\n",
    "\n",
    "* First Name  Last Name:"
   ]
  },
  {
   "cell_type": "code",
   "execution_count": null,
   "metadata": {},
   "outputs": [],
   "source": []
  }
 ],
 "metadata": {
  "kernelspec": {
   "display_name": "Python 3",
   "language": "python",
   "name": "python3"
  },
  "language_info": {
   "codemirror_mode": {
    "name": "ipython",
    "version": 3
   },
   "file_extension": ".py",
   "mimetype": "text/x-python",
   "name": "python",
   "nbconvert_exporter": "python",
   "pygments_lexer": "ipython3",
   "version": "3.7.6"
  }
 },
 "nbformat": 4,
 "nbformat_minor": 4
}
